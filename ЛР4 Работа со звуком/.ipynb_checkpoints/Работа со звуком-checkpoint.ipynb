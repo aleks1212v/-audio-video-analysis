{
 "cells": [
  {
   "cell_type": "code",
   "execution_count": 3,
   "metadata": {
    "scrolled": true
   },
   "outputs": [
    {
     "name": "stderr",
     "output_type": "stream",
     "text": [
      "Using TensorFlow backend.\n",
      "C:\\Users\\aleks\\anaconda3\\envs\\for_audio\\lib\\site-packages\\tensorflow\\python\\framework\\dtypes.py:516: FutureWarning: Passing (type, 1) or '1type' as a synonym of type is deprecated; in a future version of numpy, it will be understood as (type, (1,)) / '(1,)type'.\n",
      "  _np_qint8 = np.dtype([(\"qint8\", np.int8, 1)])\n",
      "C:\\Users\\aleks\\anaconda3\\envs\\for_audio\\lib\\site-packages\\tensorflow\\python\\framework\\dtypes.py:517: FutureWarning: Passing (type, 1) or '1type' as a synonym of type is deprecated; in a future version of numpy, it will be understood as (type, (1,)) / '(1,)type'.\n",
      "  _np_quint8 = np.dtype([(\"quint8\", np.uint8, 1)])\n",
      "C:\\Users\\aleks\\anaconda3\\envs\\for_audio\\lib\\site-packages\\tensorflow\\python\\framework\\dtypes.py:518: FutureWarning: Passing (type, 1) or '1type' as a synonym of type is deprecated; in a future version of numpy, it will be understood as (type, (1,)) / '(1,)type'.\n",
      "  _np_qint16 = np.dtype([(\"qint16\", np.int16, 1)])\n",
      "C:\\Users\\aleks\\anaconda3\\envs\\for_audio\\lib\\site-packages\\tensorflow\\python\\framework\\dtypes.py:519: FutureWarning: Passing (type, 1) or '1type' as a synonym of type is deprecated; in a future version of numpy, it will be understood as (type, (1,)) / '(1,)type'.\n",
      "  _np_quint16 = np.dtype([(\"quint16\", np.uint16, 1)])\n",
      "C:\\Users\\aleks\\anaconda3\\envs\\for_audio\\lib\\site-packages\\tensorflow\\python\\framework\\dtypes.py:520: FutureWarning: Passing (type, 1) or '1type' as a synonym of type is deprecated; in a future version of numpy, it will be understood as (type, (1,)) / '(1,)type'.\n",
      "  _np_qint32 = np.dtype([(\"qint32\", np.int32, 1)])\n",
      "C:\\Users\\aleks\\anaconda3\\envs\\for_audio\\lib\\site-packages\\tensorflow\\python\\framework\\dtypes.py:525: FutureWarning: Passing (type, 1) or '1type' as a synonym of type is deprecated; in a future version of numpy, it will be understood as (type, (1,)) / '(1,)type'.\n",
      "  np_resource = np.dtype([(\"resource\", np.ubyte, 1)])\n",
      "C:\\Users\\aleks\\anaconda3\\envs\\for_audio\\lib\\site-packages\\tensorboard\\compat\\tensorflow_stub\\dtypes.py:541: FutureWarning: Passing (type, 1) or '1type' as a synonym of type is deprecated; in a future version of numpy, it will be understood as (type, (1,)) / '(1,)type'.\n",
      "  _np_qint8 = np.dtype([(\"qint8\", np.int8, 1)])\n",
      "C:\\Users\\aleks\\anaconda3\\envs\\for_audio\\lib\\site-packages\\tensorboard\\compat\\tensorflow_stub\\dtypes.py:542: FutureWarning: Passing (type, 1) or '1type' as a synonym of type is deprecated; in a future version of numpy, it will be understood as (type, (1,)) / '(1,)type'.\n",
      "  _np_quint8 = np.dtype([(\"quint8\", np.uint8, 1)])\n",
      "C:\\Users\\aleks\\anaconda3\\envs\\for_audio\\lib\\site-packages\\tensorboard\\compat\\tensorflow_stub\\dtypes.py:543: FutureWarning: Passing (type, 1) or '1type' as a synonym of type is deprecated; in a future version of numpy, it will be understood as (type, (1,)) / '(1,)type'.\n",
      "  _np_qint16 = np.dtype([(\"qint16\", np.int16, 1)])\n",
      "C:\\Users\\aleks\\anaconda3\\envs\\for_audio\\lib\\site-packages\\tensorboard\\compat\\tensorflow_stub\\dtypes.py:544: FutureWarning: Passing (type, 1) or '1type' as a synonym of type is deprecated; in a future version of numpy, it will be understood as (type, (1,)) / '(1,)type'.\n",
      "  _np_quint16 = np.dtype([(\"quint16\", np.uint16, 1)])\n",
      "C:\\Users\\aleks\\anaconda3\\envs\\for_audio\\lib\\site-packages\\tensorboard\\compat\\tensorflow_stub\\dtypes.py:545: FutureWarning: Passing (type, 1) or '1type' as a synonym of type is deprecated; in a future version of numpy, it will be understood as (type, (1,)) / '(1,)type'.\n",
      "  _np_qint32 = np.dtype([(\"qint32\", np.int32, 1)])\n",
      "C:\\Users\\aleks\\anaconda3\\envs\\for_audio\\lib\\site-packages\\tensorboard\\compat\\tensorflow_stub\\dtypes.py:550: FutureWarning: Passing (type, 1) or '1type' as a synonym of type is deprecated; in a future version of numpy, it will be understood as (type, (1,)) / '(1,)type'.\n",
      "  np_resource = np.dtype([(\"resource\", np.ubyte, 1)])\n"
     ]
    }
   ],
   "source": [
    "import  IPython.display  as  ipd \n",
    "import  os \n",
    "import  numpy  as  np \n",
    "import  pandas  as  pd \n",
    "import  matplotlib.pyplot  as  plt \n",
    "import  librosa \n",
    "from  tqdm  import tqdm \n",
    "from  sklearn.preprocessing  import StandardScaler \n",
    "from  keras.models  import Sequential \n",
    "from  keras.layers  import Dense, Dropout, Activation \n",
    "from  keras.optimizers  import Adam"
   ]
  },
  {
   "cell_type": "code",
   "execution_count": null,
   "metadata": {},
   "outputs": [],
   "source": [
    "from google.colab import drive\n",
    "drive.mount('/gdrive')"
   ]
  },
  {
   "cell_type": "code",
   "execution_count": null,
   "metadata": {},
   "outputs": [],
   "source": [
    "data = pd.read_csv ('/gdrive/My Drive/urban/train.csv')\n",
    "data.head () # Чтобы увидеть набор данных"
   ]
  },
  {
   "cell_type": "markdown",
   "metadata": {},
   "source": [
    "Используя библиотеку librosa, я извлечу четыре функции из аудиофайлов. Этими характеристиками являются кепстральные коэффициенты Mel-частоты (MFCC), тоннец, спектрограмма в масштабе Mel и хроматограмма из формы волны."
   ]
  },
  {
   "cell_type": "code",
   "execution_count": null,
   "metadata": {},
   "outputs": [],
   "source": [
    "mfc=[]\n",
    "chr=[]\n",
    "me=[]\n",
    "ton=[]\n",
    "lab=[]\n",
    "for i in tqdm(range(len(data))):\n",
    "    f_name='/gdrive/My Drive/urban/Train/'+str(data.ID[i])+'.wav'\n",
    "    X, s_rate = librosa.load(f_name, res_type='kaiser_fast')\n",
    "    mf = np.mean(librosa.feature.mfcc(y=X, sr=s_rate).T,axis=0)\n",
    "    mfc.append(mf)\n",
    "    l=data.Class[i]\n",
    "    lab.append(l)\n",
    "    try:\n",
    "        t =    np.mean(librosa.feature.tonnetz(\n",
    "                       y=librosa.effects.harmonic(X),\n",
    "                       sr=s_rate).T,axis=0)\n",
    "        ton.append(t)\n",
    "    except:\n",
    "        print(f_name)  \n",
    "    m = np.mean(librosa.feature.melspectrogram(X, sr=s_rate).T,axis=0)\n",
    "    me.append(m)\n",
    "    s = np.abs(librosa.stft(X))\n",
    "    c = np.mean(librosa.feature.chroma_stft(S=s, sr=s_rate).T,axis=0)\n",
    "    chr.append(c)"
   ]
  },
  {
   "cell_type": "markdown",
   "metadata": {},
   "source": [
    "После извлечения функций из аудиофайлов сохраните функции, потому что на извлечение функций уйдет много времени."
   ]
  },
  {
   "cell_type": "code",
   "execution_count": null,
   "metadata": {},
   "outputs": [],
   "source": [
    "mfcc = pd.DataFrame(mfc)\n",
    "mfcc.to_csv('/gdrive/My Drive/urban/mfc.csv', index=False)\n",
    "chrr = pd.DataFrame(chr)\n",
    "chrr.to_csv('/gdrive/My Drive/urban/chr.csv', index=False)\n",
    "mee = pd.DataFrame(me)\n",
    "mee.to_csv('/gdrive/My Drive/urban/me.csv', index=False)\n",
    "tonn = pd.DataFrame(ton)\n",
    "tonn.to_csv('/gdrive/My Drive/urban/ton.csv', index=False)\n",
    "la = pd.DataFrame(lab)\n",
    "la.to_csv('/gdrive/My Drive/urban/labels.csv', index=False)"
   ]
  },
  {
   "cell_type": "markdown",
   "metadata": {},
   "source": [
    "Объедините объекты в один массив, чтобы его можно было передать модели."
   ]
  },
  {
   "cell_type": "code",
   "execution_count": null,
   "metadata": {},
   "outputs": [],
   "source": [
    "features = []\n",
    "for i in range(len(ton)):\n",
    "    features.append(np.concatenate((me[i], mfc[i], \n",
    "                ton[i], chr[i]), axis=0))"
   ]
  },
  {
   "cell_type": "markdown",
   "metadata": {},
   "source": [
    "Закодируйте метки, чтобы модель могла их понять."
   ]
  },
  {
   "cell_type": "code",
   "execution_count": null,
   "metadata": {},
   "outputs": [],
   "source": [
    "a = pd.get_dummies(lab)\n",
    "label_columns=la.columns #To get the classes\n",
    "target = la.to_numpy() #Convert labels to numpy array"
   ]
  },
  {
   "cell_type": "markdown",
   "metadata": {},
   "source": [
    "Теперь нормализуйте элементы, чтобы градиентные спуски могли сходиться быстрее."
   ]
  },
  {
   "cell_type": "code",
   "execution_count": null,
   "metadata": {},
   "outputs": [],
   "source": [
    "tran = StandardScaler()\n",
    "features_train = tran.fit_transform(features)"
   ]
  },
  {
   "cell_type": "markdown",
   "metadata": {},
   "source": [
    "Теперь я создам набор данных для обучения, проверки и тестирования"
   ]
  },
  {
   "cell_type": "code",
   "execution_count": null,
   "metadata": {},
   "outputs": [],
   "source": [
    "feat_train=features_train[:4434]\n",
    "target_train=target[:4434]\n",
    "y_train=features_train[4434:5330]\n",
    "y_val=target[4434:5330]\n",
    "test_data=features_train[5330:]\n",
    "test_label=lab['0'][5330:]\n",
    "print(\"Training\",feat_train.shape)\n",
    "print(target_train.shape)\n",
    "print(\"Validation\",y_train.shape)\n",
    "print(y_val.shape)\n",
    "print(\"Test\",test_data.shape)\n",
    "print(test_label.shape)"
   ]
  },
  {
   "cell_type": "markdown",
   "metadata": {},
   "source": [
    "Следующим шагом будет построение модели."
   ]
  },
  {
   "cell_type": "code",
   "execution_count": null,
   "metadata": {},
   "outputs": [],
   "source": [
    "model = Sequential()\n",
    "\n",
    "model.add(Dense(186, input_shape=(186,), activation = 'relu'))\n",
    "\n",
    "model.add(Dense(256, activation = 'relu'))\n",
    "model.add(Dropout(0.6))\n",
    "\n",
    "model.add(Dense(128, activation = 'relu'))\n",
    "model.add(Dropout(0.5))\n",
    "\n",
    "model.add(Dense(10, activation = 'softmax'))\n",
    "\n",
    "model.compile(loss='categorical_crossentropy', metrics=['accuracy'], optimizer='adam')"
   ]
  },
  {
   "cell_type": "markdown",
   "metadata": {},
   "source": [
    "Это последняя модель, которая будет использоваться для обучения."
   ]
  },
  {
   "cell_type": "code",
   "execution_count": null,
   "metadata": {},
   "outputs": [],
   "source": [
    "history = model.fit(feat_train, target_train, batch_size=64, epochs=30, \n",
    "                    validation_data=(y_train, y_val))"
   ]
  },
  {
   "cell_type": "markdown",
   "metadata": {},
   "source": [
    "Теперь посмотрим, как наша модель будет работать на тестовом наборе данных."
   ]
  },
  {
   "cell_type": "code",
   "execution_count": null,
   "metadata": {},
   "outputs": [],
   "source": [
    "predict = model.predict_classes(test_data) #To predict labels"
   ]
  },
  {
   "cell_type": "markdown",
   "metadata": {},
   "source": [
    "Теперь он получит значения, чтобы получить прогноз в виде классов."
   ]
  },
  {
   "cell_type": "code",
   "execution_count": null,
   "metadata": {},
   "outputs": [],
   "source": [
    "prediction=[]\n",
    "for i in predict:\n",
    "    j=label_columns[i]\n",
    "    prediction.append(j)"
   ]
  },
  {
   "cell_type": "markdown",
   "metadata": {},
   "source": [
    "Прогноз имеет 104 тестовых метки, и теперь посчитайте, сколько из них правильно предсказано."
   ]
  },
  {
   "cell_type": "code",
   "execution_count": null,
   "metadata": {},
   "outputs": [],
   "source": [
    "k=0\n",
    "for i, j in zip(test_label,prediction):\n",
    "    if i==j:\n",
    "        k=k+1"
   ]
  },
  {
   "cell_type": "markdown",
   "metadata": {},
   "source": [
    "Из 104 меток эта модель правильно спрогнозировала 94 метки, что очень хорошо."
   ]
  },
  {
   "cell_type": "code",
   "execution_count": null,
   "metadata": {},
   "outputs": [],
   "source": []
  }
 ],
 "metadata": {
  "kernelspec": {
   "display_name": "Python 3",
   "language": "python",
   "name": "python3"
  },
  "language_info": {
   "codemirror_mode": {
    "name": "ipython",
    "version": 3
   },
   "file_extension": ".py",
   "mimetype": "text/x-python",
   "name": "python",
   "nbconvert_exporter": "python",
   "pygments_lexer": "ipython3",
   "version": "3.7.9"
  }
 },
 "nbformat": 4,
 "nbformat_minor": 4
}
