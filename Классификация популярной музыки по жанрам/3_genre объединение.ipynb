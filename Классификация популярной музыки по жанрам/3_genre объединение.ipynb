{
 "cells": [
  {
   "cell_type": "code",
   "execution_count": 3,
   "metadata": {},
   "outputs": [
    {
     "name": "stdout",
     "output_type": "stream",
     "text": [
      "Collecting matplotlib\n",
      "  Downloading matplotlib-3.3.3-cp37-cp37m-win_amd64.whl (8.5 MB)\n",
      "Collecting pillow>=6.2.0\n",
      "  Downloading Pillow-8.0.1-cp37-cp37m-win_amd64.whl (2.1 MB)\n",
      "Requirement already satisfied: numpy>=1.15 in c:\\anaconda\\envs\\python_37\\lib\\site-packages (from matplotlib) (1.19.2)\n",
      "Collecting cycler>=0.10\n",
      "  Downloading cycler-0.10.0-py2.py3-none-any.whl (6.5 kB)\n",
      "Requirement already satisfied: pyparsing!=2.0.4,!=2.1.2,!=2.1.6,>=2.0.3 in c:\\anaconda\\envs\\python_37\\lib\\site-packages (from matplotlib) (2.4.7)\n",
      "Collecting kiwisolver>=1.0.1\n",
      "  Downloading kiwisolver-1.3.1-cp37-cp37m-win_amd64.whl (51 kB)\n",
      "Requirement already satisfied: python-dateutil>=2.1 in c:\\anaconda\\envs\\python_37\\lib\\site-packages (from matplotlib) (2.8.1)\n",
      "Requirement already satisfied: six in c:\\anaconda\\envs\\python_37\\lib\\site-packages (from cycler>=0.10->matplotlib) (1.15.0)\n",
      "Installing collected packages: pillow, cycler, kiwisolver, matplotlib\n",
      "Successfully installed cycler-0.10.0 kiwisolver-1.3.1 matplotlib-3.3.3 pillow-8.0.1\n",
      "Note: you may need to restart the kernel to use updated packages.\n"
     ]
    }
   ],
   "source": [
    "pip install matplotlib"
   ]
  },
  {
   "cell_type": "code",
   "execution_count": 1,
   "metadata": {},
   "outputs": [],
   "source": [
    "import pandas as pd\n",
    "import numpy as np\n",
    "import random\n",
    "import os\n",
    "import soundfile as sf\n",
    "import librosa.util\n",
    "import librosa.display\n",
    "from pydub import AudioSegment, effects\n",
    "from pydub.silence import split_on_silence\n",
    "import zipfile\n",
    "import shutil\n",
    "from shutil import make_archive\n",
    "from pathlib import Path\n",
    "import matplotlib.pyplot as plt"
   ]
  },
  {
   "cell_type": "code",
   "execution_count": 6,
   "metadata": {},
   "outputs": [],
   "source": [
    "#мел-частотные кепстральные коэффициенты\n",
    "def merge(dir_):\n",
    "    instrpath = os.path.join(root, dir_)\n",
    "    song = AudioSegment.empty()\n",
    "    for new_root, new_dirs, new_files in os.walk(instrpath):\n",
    "        for new_file in new_files:\n",
    "            filepath = os.path.join(new_root, new_file)\n",
    "            if Path(new_file).suffix in ['.wav']:\n",
    "                sound = AudioSegment.from_wav(filepath)\n",
    "                sound = effects.normalize(sound) \n",
    "                song = song + sound\n",
    "    newpath = os.path.dirname(instrpath)\n",
    "    song.export(os.path.join(newpath, dir_ + '.wav'), format=\"wav\")\n",
    "\n",
    "\n",
    "if __name__ == '__main__':\n",
    "    \n",
    "    dirpath = os.getcwd()\n",
    "    for root, dirs, files in os.walk(dirpath):\n",
    "        for dir_ in dirs:\n",
    "            merge(dir_)"
   ]
  },
  {
   "cell_type": "code",
   "execution_count": null,
   "metadata": {},
   "outputs": [],
   "source": [
    "def mfcc_plot(path, name):    \n",
    "    x, sr = sf.read(os.path.join(path, name))\n",
    "    mfccs = librosa.feature.mfcc(x, sr=sr, n_mfcc = 14, dct_type = 1, norm = 'ortho')\n",
    "    print(mfccs.shape)\n",
    "    print(x.shape)\n",
    "    print(sr)\n",
    "    # Отображение MFCC:\n",
    "    #plt.figure(figsize=(15, 7))\n",
    "    #librosa.display.specshow(mfccs, sr=sr, x_axis='time')\n",
    "    #plt.title(name)\n",
    "    #plt.show()\n",
    "    \n",
    "    df = pd.DataFrame(mfccs).transpose()\n",
    "    df.to_csv(os.path.join(path, Path(name).stem + '.csv'))\n",
    "    \n",
    "if __name__ == '__main__':\n",
    "    dirpath = os.getcwd()\n",
    "        for new_root, dirs, files in os.walk(dirpath):\n",
    "            for file in files:\n",
    "                if Path(file).suffix == '.wav':\n",
    "                    mfcc_plot(new_root, file)\n",
    "                    break\n"
   ]
  }
 ],
 "metadata": {
  "kernelspec": {
   "display_name": "Python 3",
   "language": "python",
   "name": "python3"
  },
  "language_info": {
   "codemirror_mode": {
    "name": "ipython",
    "version": 3
   },
   "file_extension": ".py",
   "mimetype": "text/x-python",
   "name": "python",
   "nbconvert_exporter": "python",
   "pygments_lexer": "ipython3",
   "version": "3.7.9"
  }
 },
 "nbformat": 4,
 "nbformat_minor": 4
}
