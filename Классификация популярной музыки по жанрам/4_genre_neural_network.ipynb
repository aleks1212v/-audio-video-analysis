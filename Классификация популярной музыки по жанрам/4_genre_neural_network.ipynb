{
 "cells": [
  {
   "cell_type": "code",
   "execution_count": null,
   "metadata": {
    "colab": {
     "base_uri": "https://localhost:8080/"
    },
    "executionInfo": {
     "elapsed": 29967,
     "status": "ok",
     "timestamp": 1609083703743,
     "user": {
      "displayName": "Алексей Витомсков",
      "photoUrl": "",
      "userId": "09837648934599257287"
     },
     "user_tz": -300
    },
    "id": "tAb77yZ9fzMG",
    "outputId": "44486668-be20-429c-e1b1-2348bf147464"
   },
   "outputs": [
    {
     "name": "stdout",
     "output_type": "stream",
     "text": [
      "Mounted at /gdrive\n"
     ]
    }
   ],
   "source": [
    "from google.colab import drive\n",
    "drive.mount('/gdrive')"
   ]
  },
  {
   "cell_type": "code",
   "execution_count": null,
   "metadata": {
    "id": "pafL7Li0jyXW"
   },
   "outputs": [],
   "source": [
    "import os\n",
    "import pandas as pd\n",
    "import numpy as np\n",
    "from pathlib import Path\n",
    "\n",
    "labels = ['allrock', 'blues', 'country', 'electronic', 'hip-hop', \\\n",
    "          'jazz', 'latin-american', 'pop', 'r-n-b', 'reggae', 'shanson', 'world']\n",
    "\n",
    "labels_small = ['allrock_small', 'blues_small', 'country_small', 'electronic_small', 'hip-hop_small', \\\n",
    "          'jazz_small', 'latin-american_small', 'pop_small', 'r-n-b_small', 'reggae_small', 'shanson_small', 'world_small']\n",
    "\n",
    "x_lim = 431  #(22050/512) * 10 = 431 отсчет на 10 секунд звучания\n",
    "y_lim = 15   #n_mfcc\n",
    "\n",
    "n_songs = 30 #песен у каждого исполнителя\n",
    "n_artists = 300 #исполнителей в каждом жанре. Но может быть чуть меньше."
   ]
  },
  {
   "cell_type": "code",
   "execution_count": null,
   "metadata": {
    "colab": {
     "base_uri": "https://localhost:8080/",
     "height": 680
    },
    "executionInfo": {
     "elapsed": 113468,
     "status": "error",
     "timestamp": 1609083825024,
     "user": {
      "displayName": "Алексей Витомсков",
      "photoUrl": "",
      "userId": "09837648934599257287"
     },
     "user_tz": -300
    },
    "id": "C80hO8rH2tSx",
    "outputId": "08940b75-3c95-44ae-aeab-9e4155b566f8"
   },
   "outputs": [
    {
     "name": "stdout",
     "output_type": "stream",
     "text": [
      "Загрузка:\n",
      "world.csv\n",
      "allrock.csv\n"
     ]
    },
    {
     "ename": "KeyboardInterrupt",
     "evalue": "ignored",
     "output_type": "error",
     "traceback": [
      "\u001b[0;31m---------------------------------------------------------------------------\u001b[0m",
      "\u001b[0;31mKeyboardInterrupt\u001b[0m                         Traceback (most recent call last)",
      "\u001b[0;32m<ipython-input-4-21ec77976532>\u001b[0m in \u001b[0;36m<module>\u001b[0;34m()\u001b[0m\n\u001b[1;32m     11\u001b[0m             \u001b[0mfilepath\u001b[0m \u001b[0;34m=\u001b[0m \u001b[0mos\u001b[0m\u001b[0;34m.\u001b[0m\u001b[0mpath\u001b[0m\u001b[0;34m.\u001b[0m\u001b[0mjoin\u001b[0m\u001b[0;34m(\u001b[0m\u001b[0mroot_dir\u001b[0m\u001b[0;34m,\u001b[0m \u001b[0mfile\u001b[0m\u001b[0;34m)\u001b[0m\u001b[0;34m\u001b[0m\u001b[0;34m\u001b[0m\u001b[0m\n\u001b[1;32m     12\u001b[0m             \u001b[0mprint\u001b[0m\u001b[0;34m(\u001b[0m\u001b[0mfile\u001b[0m\u001b[0;34m)\u001b[0m\u001b[0;34m\u001b[0m\u001b[0;34m\u001b[0m\u001b[0m\n\u001b[0;32m---> 13\u001b[0;31m             \u001b[0msound\u001b[0m \u001b[0;34m=\u001b[0m \u001b[0mpd\u001b[0m\u001b[0;34m.\u001b[0m\u001b[0mread_csv\u001b[0m\u001b[0;34m(\u001b[0m\u001b[0mfilepath\u001b[0m\u001b[0;34m)\u001b[0m \u001b[0;31m#читаем файл с mfcc конкретного жанра\u001b[0m\u001b[0;34m\u001b[0m\u001b[0;34m\u001b[0m\u001b[0m\n\u001b[0m\u001b[1;32m     14\u001b[0m             \u001b[0;31m#sound = sound.iloc[:int(n_songs * n_artists * coeff)] #оставляем только koeff песен так как все не влезает в ОЗУ\u001b[0m\u001b[0;34m\u001b[0m\u001b[0;34m\u001b[0m\u001b[0;34m\u001b[0m\u001b[0m\n\u001b[1;32m     15\u001b[0m             \u001b[0;31m#sound = sound.sample(frac=1).reset_index(drop=True) #перемешиваем песни\u001b[0m\u001b[0;34m\u001b[0m\u001b[0;34m\u001b[0m\u001b[0;34m\u001b[0m\u001b[0m\n",
      "\u001b[0;32m/usr/local/lib/python3.6/dist-packages/pandas/io/parsers.py\u001b[0m in \u001b[0;36mread_csv\u001b[0;34m(filepath_or_buffer, sep, delimiter, header, names, index_col, usecols, squeeze, prefix, mangle_dupe_cols, dtype, engine, converters, true_values, false_values, skipinitialspace, skiprows, skipfooter, nrows, na_values, keep_default_na, na_filter, verbose, skip_blank_lines, parse_dates, infer_datetime_format, keep_date_col, date_parser, dayfirst, cache_dates, iterator, chunksize, compression, thousands, decimal, lineterminator, quotechar, quoting, doublequote, escapechar, comment, encoding, dialect, error_bad_lines, warn_bad_lines, delim_whitespace, low_memory, memory_map, float_precision)\u001b[0m\n\u001b[1;32m    686\u001b[0m     )\n\u001b[1;32m    687\u001b[0m \u001b[0;34m\u001b[0m\u001b[0m\n\u001b[0;32m--> 688\u001b[0;31m     \u001b[0;32mreturn\u001b[0m \u001b[0m_read\u001b[0m\u001b[0;34m(\u001b[0m\u001b[0mfilepath_or_buffer\u001b[0m\u001b[0;34m,\u001b[0m \u001b[0mkwds\u001b[0m\u001b[0;34m)\u001b[0m\u001b[0;34m\u001b[0m\u001b[0;34m\u001b[0m\u001b[0m\n\u001b[0m\u001b[1;32m    689\u001b[0m \u001b[0;34m\u001b[0m\u001b[0m\n\u001b[1;32m    690\u001b[0m \u001b[0;34m\u001b[0m\u001b[0m\n",
      "\u001b[0;32m/usr/local/lib/python3.6/dist-packages/pandas/io/parsers.py\u001b[0m in \u001b[0;36m_read\u001b[0;34m(filepath_or_buffer, kwds)\u001b[0m\n\u001b[1;32m    458\u001b[0m \u001b[0;34m\u001b[0m\u001b[0m\n\u001b[1;32m    459\u001b[0m     \u001b[0;32mtry\u001b[0m\u001b[0;34m:\u001b[0m\u001b[0;34m\u001b[0m\u001b[0;34m\u001b[0m\u001b[0m\n\u001b[0;32m--> 460\u001b[0;31m         \u001b[0mdata\u001b[0m \u001b[0;34m=\u001b[0m \u001b[0mparser\u001b[0m\u001b[0;34m.\u001b[0m\u001b[0mread\u001b[0m\u001b[0;34m(\u001b[0m\u001b[0mnrows\u001b[0m\u001b[0;34m)\u001b[0m\u001b[0;34m\u001b[0m\u001b[0;34m\u001b[0m\u001b[0m\n\u001b[0m\u001b[1;32m    461\u001b[0m     \u001b[0;32mfinally\u001b[0m\u001b[0;34m:\u001b[0m\u001b[0;34m\u001b[0m\u001b[0;34m\u001b[0m\u001b[0m\n\u001b[1;32m    462\u001b[0m         \u001b[0mparser\u001b[0m\u001b[0;34m.\u001b[0m\u001b[0mclose\u001b[0m\u001b[0;34m(\u001b[0m\u001b[0;34m)\u001b[0m\u001b[0;34m\u001b[0m\u001b[0;34m\u001b[0m\u001b[0m\n",
      "\u001b[0;32m/usr/local/lib/python3.6/dist-packages/pandas/io/parsers.py\u001b[0m in \u001b[0;36mread\u001b[0;34m(self, nrows)\u001b[0m\n\u001b[1;32m   1196\u001b[0m     \u001b[0;32mdef\u001b[0m \u001b[0mread\u001b[0m\u001b[0;34m(\u001b[0m\u001b[0mself\u001b[0m\u001b[0;34m,\u001b[0m \u001b[0mnrows\u001b[0m\u001b[0;34m=\u001b[0m\u001b[0;32mNone\u001b[0m\u001b[0;34m)\u001b[0m\u001b[0;34m:\u001b[0m\u001b[0;34m\u001b[0m\u001b[0;34m\u001b[0m\u001b[0m\n\u001b[1;32m   1197\u001b[0m         \u001b[0mnrows\u001b[0m \u001b[0;34m=\u001b[0m \u001b[0m_validate_integer\u001b[0m\u001b[0;34m(\u001b[0m\u001b[0;34m\"nrows\"\u001b[0m\u001b[0;34m,\u001b[0m \u001b[0mnrows\u001b[0m\u001b[0;34m)\u001b[0m\u001b[0;34m\u001b[0m\u001b[0;34m\u001b[0m\u001b[0m\n\u001b[0;32m-> 1198\u001b[0;31m         \u001b[0mret\u001b[0m \u001b[0;34m=\u001b[0m \u001b[0mself\u001b[0m\u001b[0;34m.\u001b[0m\u001b[0m_engine\u001b[0m\u001b[0;34m.\u001b[0m\u001b[0mread\u001b[0m\u001b[0;34m(\u001b[0m\u001b[0mnrows\u001b[0m\u001b[0;34m)\u001b[0m\u001b[0;34m\u001b[0m\u001b[0;34m\u001b[0m\u001b[0m\n\u001b[0m\u001b[1;32m   1199\u001b[0m \u001b[0;34m\u001b[0m\u001b[0m\n\u001b[1;32m   1200\u001b[0m         \u001b[0;31m# May alter columns / col_dict\u001b[0m\u001b[0;34m\u001b[0m\u001b[0;34m\u001b[0m\u001b[0;34m\u001b[0m\u001b[0m\n",
      "\u001b[0;32m/usr/local/lib/python3.6/dist-packages/pandas/io/parsers.py\u001b[0m in \u001b[0;36mread\u001b[0;34m(self, nrows)\u001b[0m\n\u001b[1;32m   2155\u001b[0m     \u001b[0;32mdef\u001b[0m \u001b[0mread\u001b[0m\u001b[0;34m(\u001b[0m\u001b[0mself\u001b[0m\u001b[0;34m,\u001b[0m \u001b[0mnrows\u001b[0m\u001b[0;34m=\u001b[0m\u001b[0;32mNone\u001b[0m\u001b[0;34m)\u001b[0m\u001b[0;34m:\u001b[0m\u001b[0;34m\u001b[0m\u001b[0;34m\u001b[0m\u001b[0m\n\u001b[1;32m   2156\u001b[0m         \u001b[0;32mtry\u001b[0m\u001b[0;34m:\u001b[0m\u001b[0;34m\u001b[0m\u001b[0;34m\u001b[0m\u001b[0m\n\u001b[0;32m-> 2157\u001b[0;31m             \u001b[0mdata\u001b[0m \u001b[0;34m=\u001b[0m \u001b[0mself\u001b[0m\u001b[0;34m.\u001b[0m\u001b[0m_reader\u001b[0m\u001b[0;34m.\u001b[0m\u001b[0mread\u001b[0m\u001b[0;34m(\u001b[0m\u001b[0mnrows\u001b[0m\u001b[0;34m)\u001b[0m\u001b[0;34m\u001b[0m\u001b[0;34m\u001b[0m\u001b[0m\n\u001b[0m\u001b[1;32m   2158\u001b[0m         \u001b[0;32mexcept\u001b[0m \u001b[0mStopIteration\u001b[0m\u001b[0;34m:\u001b[0m\u001b[0;34m\u001b[0m\u001b[0;34m\u001b[0m\u001b[0m\n\u001b[1;32m   2159\u001b[0m             \u001b[0;32mif\u001b[0m \u001b[0mself\u001b[0m\u001b[0;34m.\u001b[0m\u001b[0m_first_chunk\u001b[0m\u001b[0;34m:\u001b[0m\u001b[0;34m\u001b[0m\u001b[0;34m\u001b[0m\u001b[0m\n",
      "\u001b[0;32mpandas/_libs/parsers.pyx\u001b[0m in \u001b[0;36mpandas._libs.parsers.TextReader.read\u001b[0;34m()\u001b[0m\n",
      "\u001b[0;32mpandas/_libs/parsers.pyx\u001b[0m in \u001b[0;36mpandas._libs.parsers.TextReader._read_low_memory\u001b[0;34m()\u001b[0m\n",
      "\u001b[0;32mpandas/_libs/parsers.pyx\u001b[0m in \u001b[0;36mpandas._libs.parsers.TextReader._read_rows\u001b[0;34m()\u001b[0m\n",
      "\u001b[0;32mpandas/_libs/parsers.pyx\u001b[0m in \u001b[0;36mpandas._libs.parsers.TextReader._convert_column_data\u001b[0;34m()\u001b[0m\n",
      "\u001b[0;32mpandas/_libs/parsers.pyx\u001b[0m in \u001b[0;36mpandas._libs.parsers.TextReader._convert_tokens\u001b[0;34m()\u001b[0m\n",
      "\u001b[0;32mpandas/_libs/parsers.pyx\u001b[0m in \u001b[0;36mpandas._libs.parsers.TextReader._convert_with_dtype\u001b[0;34m()\u001b[0m\n",
      "\u001b[0;32m/usr/local/lib/python3.6/dist-packages/pandas/core/dtypes/common.py\u001b[0m in \u001b[0;36mis_categorical_dtype\u001b[0;34m(arr_or_dtype)\u001b[0m\n\u001b[1;32m    528\u001b[0m \u001b[0;34m\u001b[0m\u001b[0m\n\u001b[1;32m    529\u001b[0m \u001b[0;34m\u001b[0m\u001b[0m\n\u001b[0;32m--> 530\u001b[0;31m \u001b[0;32mdef\u001b[0m \u001b[0mis_categorical_dtype\u001b[0m\u001b[0;34m(\u001b[0m\u001b[0marr_or_dtype\u001b[0m\u001b[0;34m)\u001b[0m \u001b[0;34m->\u001b[0m \u001b[0mbool\u001b[0m\u001b[0;34m:\u001b[0m\u001b[0;34m\u001b[0m\u001b[0;34m\u001b[0m\u001b[0m\n\u001b[0m\u001b[1;32m    531\u001b[0m     \"\"\"\n\u001b[1;32m    532\u001b[0m     \u001b[0mCheck\u001b[0m \u001b[0mwhether\u001b[0m \u001b[0man\u001b[0m \u001b[0marray\u001b[0m\u001b[0;34m-\u001b[0m\u001b[0mlike\u001b[0m \u001b[0;32mor\u001b[0m \u001b[0mdtype\u001b[0m \u001b[0;32mis\u001b[0m \u001b[0mof\u001b[0m \u001b[0mthe\u001b[0m \u001b[0mCategorical\u001b[0m \u001b[0mdtype\u001b[0m\u001b[0;34m.\u001b[0m\u001b[0;34m\u001b[0m\u001b[0;34m\u001b[0m\u001b[0m\n",
      "\u001b[0;31mKeyboardInterrupt\u001b[0m: "
     ]
    }
   ],
   "source": [
    "#записать все данные в один файл\n",
    "\n",
    "filepath_out = os.path.join(os.getcwd, '431na15_full.csv')\n",
    "song = pd.DataFrame()\n",
    "#root = os.getcwd()\n",
    "root = os.getcwd #'/gdrive/My Drive/DATASETS/genres/genres_all'\n",
    "print('Загрузка:')\n",
    "for root_dir, dirs, files in os.walk(root):\n",
    "    for file in files:\n",
    "        if Path(file).suffix == '.csv' and Path(file).stem in labels: #labels_small:\n",
    "            filepath = os.path.join(root_dir, file)\n",
    "            print(file)\n",
    "            sound = pd.read_csv(filepath) #читаем файл с mfcc конкретного жанра\n",
    "            #sound = sound.iloc[:int(n_songs * n_artists * coeff)] #оставляем только koeff песен так как все не влезает в ОЗУ\n",
    "            #sound = sound.sample(frac=1).reset_index(drop=True) #перемешиваем песни\n",
    "            sound['class'] = Path(file).stem\n",
    "            song = pd.concat([song, sound], ignore_index = True)\n",
    "            song.to_csv(filepath_out, index=False, mode = 'a')\n",
    "            \n",
    "#12930*15 = 1 исполнитель (30 песен)\n",
    "#431*15 = 1 песня (10 секунд)"
   ]
  },
  {
   "cell_type": "code",
   "execution_count": null,
   "metadata": {
    "colab": {
     "base_uri": "https://localhost:8080/"
    },
    "executionInfo": {
     "elapsed": 5108,
     "status": "ok",
     "timestamp": 1609078996395,
     "user": {
      "displayName": "Алексей Витомсков",
      "photoUrl": "",
      "userId": "09837648934599257287"
     },
     "user_tz": -300
    },
    "id": "_csluujaWf1_",
    "outputId": "0a5eb7a5-7f29-46c2-c0c0-4e35d9f9fe3a"
   },
   "outputs": [
    {
     "name": "stdout",
     "output_type": "stream",
     "text": [
      "(1550400, 17)\n"
     ]
    }
   ],
   "source": [
    "song = pd.read_csv( os.path.join(os.getcwd, '431na15_full.csv'), index_col = None) #'/gdrive/My Drive/DATASETS/genres/genres_all/431na15_full.csv', index_col=None)\n",
    "print(song.shape)"
   ]
  },
  {
   "cell_type": "code",
   "execution_count": null,
   "metadata": {
    "colab": {
     "base_uri": "https://localhost:8080/"
    },
    "executionInfo": {
     "elapsed": 2637,
     "status": "ok",
     "timestamp": 1609081411381,
     "user": {
      "displayName": "Алексей Витомсков",
      "photoUrl": "",
      "userId": "09837648934599257287"
     },
     "user_tz": -300
    },
    "id": "12oygJXTWfyZ",
    "outputId": "51debe55-c6d5-4aa4-f9a0-9e45470f4ccc"
   },
   "outputs": [
    {
     "name": "stdout",
     "output_type": "stream",
     "text": [
      "(1550400, 12)\n",
      "(2589, 431, 15)\n",
      "(2589, 12)\n",
      "(287, 431, 15)\n",
      "(287, 12)\n",
      "(719, 431, 15)\n",
      "(719, 12)\n"
     ]
    }
   ],
   "source": [
    "from  sklearn.preprocessing  import StandardScaler \n",
    "from sklearn.model_selection import train_test_split\n",
    "\n",
    "song = song.sample(frac=1).reset_index(drop=True) \n",
    "X = song[[str(i) for i in range(y_lim)]]\n",
    "y = song['class']\n",
    "\n",
    "#преобразование one-hot и нормализация\n",
    "tran = StandardScaler()\n",
    "X = tran.fit_transform(X)\n",
    "y = pd.get_dummies(y, columns = labels)\n",
    "print(y.shape)\n",
    "\n",
    "X, X_test, y, y_test = train_test_split(X, y, test_size=0.20, random_state=42) #тестовая\n",
    "X, X_val, y, y_val = train_test_split(X, y, test_size=0.10, random_state=42) #валидационная\n",
    "\n",
    "n_row = (X.shape[0] // x_lim) * x_lim\n",
    "new_row = n_row // x_lim\n",
    "X = X[:n_row, :]\n",
    "X = np.array(X).reshape(new_row, x_lim, y_lim) #для подачи на входд LTSM\n",
    "y = y.iloc[:n_row, :]\n",
    "y = np.array(y).reshape(new_row, x_lim, 12)[:, 0, :]\n",
    "print(X.shape)\n",
    "print(y.shape)\n",
    "\n",
    "n_row = (X_val.shape[0] // x_lim) * x_lim\n",
    "new_row = n_row // x_lim\n",
    "X_val = X_val[:(X_val.shape[0] // x_lim) * x_lim, :]\n",
    "X_val = np.array(X_val).reshape(-1, x_lim, y_lim) #для подачи на входд LTSM\n",
    "y_val = y_val.iloc[:n_row, :]\n",
    "y_val = np.array(y_val).reshape(new_row, x_lim, 12)[:, 0, :]\n",
    "print(X_val.shape)\n",
    "print(y_val.shape)\n",
    "\n",
    "n_row = (X_test.shape[0] // x_lim) * x_lim\n",
    "new_row = n_row // x_lim\n",
    "X_test = X_test[:(X_test.shape[0] // x_lim) * x_lim, :]\n",
    "X_test = np.array(X_test).reshape(-1, x_lim, y_lim) #для подачи на входд LTSM\n",
    "y_test = y_test.iloc[:n_row, :]\n",
    "y_test = np.array(y_test).reshape(new_row, x_lim, 12)[:, 0, :]\n",
    "print(X_test.shape)\n",
    "print(y_test.shape)"
   ]
  },
  {
   "cell_type": "code",
   "execution_count": null,
   "metadata": {
    "id": "sBf4GqSmWfoQ"
   },
   "outputs": [],
   "source": [
    "from keras import backend as K \n",
    "\n",
    "# Метрики \n",
    "def precision(y_true, y_pred):\n",
    "    \"\"\"Precision metric.\n",
    "\n",
    "    Only computes a batch-wise average of precision.\n",
    "\n",
    "    Computes the precision, a metric for multi-label classification of\n",
    "    how many selected items are relevant.\n",
    "    \"\"\"\n",
    "    true_positives = K.sum(K.round(K.clip(y_true * y_pred, 0, 1)))\n",
    "    predicted_positives = K.sum(K.round(K.clip(y_pred, 0, 1)))\n",
    "    precision = true_positives / (predicted_positives + K.epsilon())\n",
    "    return precision\n",
    "\n",
    "\n",
    "def recall(y_true, y_pred):\n",
    "    \"\"\"Recall metric.\n",
    "\n",
    "    Only computes a batch-wise average of recall.\n",
    "\n",
    "    Computes the recall, a metric for multi-label classification of\n",
    "    how many relevant items are selected.\n",
    "    \"\"\"\n",
    "    true_positives = K.sum(K.round(K.clip(y_true * y_pred, 0, 1)))\n",
    "    possible_positives = K.sum(K.round(K.clip(y_true, 0, 1)))\n",
    "    recall = true_positives / (possible_positives + K.epsilon())\n",
    "    return recall\n",
    "\n",
    "\n",
    "def f1(y_true, y_pred):\n",
    "    def recall(y_true, y_pred):\n",
    "        \"\"\"Recall metric.\n",
    "\n",
    "        Only computes a batch-wise average of recall.\n",
    "\n",
    "        Computes the recall, a metric for multi-label classification of\n",
    "        how many relevant items are selected.\n",
    "        \"\"\"\n",
    "        true_positives = K.sum(K.round(K.clip(y_true * y_pred, 0, 1)))\n",
    "        possible_positives = K.sum(K.round(K.clip(y_true, 0, 1)))\n",
    "        recall = true_positives / (possible_positives + K.epsilon())\n",
    "        return recall\n",
    "\n",
    "    def precision(y_true, y_pred):\n",
    "        \"\"\"Precision metric.\n",
    "\n",
    "        Only computes a batch-wise average of precision.\n",
    "\n",
    "        Computes the precision, a metric for multi-label classification of\n",
    "        how many selected items are relevant.\n",
    "        \"\"\"\n",
    "        true_positives = K.sum(K.round(K.clip(y_true * y_pred, 0, 1)))\n",
    "        predicted_positives = K.sum(K.round(K.clip(y_pred, 0, 1)))\n",
    "        precision = true_positives / (predicted_positives + K.epsilon())\n",
    "        return precision\n",
    "\n",
    "    precision = precision(y_true, y_pred)\n",
    "    recall = recall(y_true, y_pred)\n",
    "    return 2 * ((precision * recall) / (precision + recall + K.epsilon()))"
   ]
  },
  {
   "cell_type": "code",
   "execution_count": null,
   "metadata": {
    "id": "xEMmKDuSWfkz"
   },
   "outputs": [],
   "source": [
    "from  tqdm  import tqdm \n",
    "from  keras.models  import Sequential \n",
    "from  keras.layers  import LSTM, Dense, Dropout, Activation \n",
    "from  keras.optimizers  import Adam"
   ]
  },
  {
   "cell_type": "code",
   "execution_count": null,
   "metadata": {
    "id": "vV5s5y05Wfgp"
   },
   "outputs": [],
   "source": [
    "model = Sequential()\n",
    "\n",
    "model.add(LSTM(1000, return_sequences=False, input_shape=(x_lim, y_lim,), activation = 'tanh'))\n",
    "\n",
    "model.add(Dense(512, activation = 'relu'))\n",
    "model.add(Dropout(0.5))\n",
    "\n",
    "model.add(Dense(256, activation = 'relu'))\n",
    "model.add(Dropout(0.5))\n",
    "\n",
    "model.add(Dense(64, activation = 'relu'))\n",
    "model.add(Dropout(0.5))\n",
    "\n",
    "model.add(Dense(12, activation = 'softmax'))\n",
    "\n",
    "\n",
    "model.compile(loss='categorical_crossentropy', metrics=['accuracy', precision, recall, f1], optimizer='adam')"
   ]
  },
  {
   "cell_type": "code",
   "execution_count": null,
   "metadata": {
    "colab": {
     "base_uri": "https://localhost:8080/",
     "height": 1000
    },
    "executionInfo": {
     "elapsed": 209216,
     "status": "error",
     "timestamp": 1609081962093,
     "user": {
      "displayName": "Алексей Витомсков",
      "photoUrl": "",
      "userId": "09837648934599257287"
     },
     "user_tz": -300
    },
    "id": "lb6_3isnWfeb",
    "outputId": "71f5682a-0f71-4106-fec9-5f7885b7bf72"
   },
   "outputs": [
    {
     "name": "stdout",
     "output_type": "stream",
     "text": [
      "Epoch 1/1000\n",
      "81/81 [==============================] - 5s 64ms/step - loss: 2.3997 - accuracy: 0.1599 - precision: 0.0864 - recall: 0.0027 - f1: 0.0052 - val_loss: 2.5253 - val_accuracy: 0.0732 - val_precision: 0.0000e+00 - val_recall: 0.0000e+00 - val_f1: 0.0000e+00\n",
      "Epoch 2/1000\n",
      "81/81 [==============================] - 5s 64ms/step - loss: 2.3840 - accuracy: 0.1626 - precision: 0.0741 - recall: 0.0031 - f1: 0.0059 - val_loss: 2.5295 - val_accuracy: 0.0906 - val_precision: 0.0000e+00 - val_recall: 0.0000e+00 - val_f1: 0.0000e+00\n",
      "Epoch 3/1000\n",
      "81/81 [==============================] - 5s 64ms/step - loss: 2.3529 - accuracy: 0.1896 - precision: 0.1605 - recall: 0.0058 - f1: 0.0111 - val_loss: 2.5520 - val_accuracy: 0.0836 - val_precision: 0.0000e+00 - val_recall: 0.0000e+00 - val_f1: 0.0000e+00\n",
      "Epoch 4/1000\n",
      "81/81 [==============================] - 5s 64ms/step - loss: 2.3113 - accuracy: 0.2074 - precision: 0.3185 - recall: 0.0174 - f1: 0.0324 - val_loss: 2.6067 - val_accuracy: 0.0871 - val_precision: 0.0000e+00 - val_recall: 0.0000e+00 - val_f1: 0.0000e+00\n",
      "Epoch 5/1000\n",
      "81/81 [==============================] - 5s 64ms/step - loss: 2.2584 - accuracy: 0.2140 - precision: 0.4198 - recall: 0.0228 - f1: 0.0426 - val_loss: 2.6213 - val_accuracy: 0.0871 - val_precision: 0.0000e+00 - val_recall: 0.0000e+00 - val_f1: 0.0000e+00\n",
      "Epoch 6/1000\n",
      "81/81 [==============================] - 5s 63ms/step - loss: 2.1965 - accuracy: 0.2499 - precision: 0.4778 - recall: 0.0332 - f1: 0.0611 - val_loss: 2.7092 - val_accuracy: 0.0767 - val_precision: 0.0556 - val_recall: 0.0036 - val_f1: 0.0067\n",
      "Epoch 7/1000\n",
      "81/81 [==============================] - 5s 63ms/step - loss: 2.1106 - accuracy: 0.2673 - precision: 0.6149 - recall: 0.0625 - f1: 0.1113 - val_loss: 2.7105 - val_accuracy: 0.0697 - val_precision: 0.0000e+00 - val_recall: 0.0000e+00 - val_f1: 0.0000e+00\n",
      "Epoch 8/1000\n",
      "81/81 [==============================] - 5s 64ms/step - loss: 2.0172 - accuracy: 0.3109 - precision: 0.7045 - recall: 0.0819 - f1: 0.1442 - val_loss: 2.8323 - val_accuracy: 0.0976 - val_precision: 0.0185 - val_recall: 0.0035 - val_f1: 0.0058\n",
      "Epoch 9/1000\n",
      "81/81 [==============================] - 5s 63ms/step - loss: 1.9539 - accuracy: 0.3430 - precision: 0.7146 - recall: 0.1085 - f1: 0.1839 - val_loss: 2.8393 - val_accuracy: 0.0836 - val_precision: 0.0000e+00 - val_recall: 0.0000e+00 - val_f1: 0.0000e+00\n",
      "Epoch 10/1000\n",
      "81/81 [==============================] - 5s 64ms/step - loss: 1.8155 - accuracy: 0.3816 - precision: 0.7531 - recall: 0.1568 - f1: 0.2549 - val_loss: 2.8871 - val_accuracy: 0.0697 - val_precision: 0.0714 - val_recall: 0.0069 - val_f1: 0.0122\n",
      "Epoch 11/1000\n",
      "81/81 [==============================] - 5s 63ms/step - loss: 1.6897 - accuracy: 0.4349 - precision: 0.7509 - recall: 0.2018 - f1: 0.3125 - val_loss: 3.0931 - val_accuracy: 0.0941 - val_precision: 0.0317 - val_recall: 0.0071 - val_f1: 0.0115\n",
      "Epoch 12/1000\n",
      "81/81 [==============================] - 5s 63ms/step - loss: 1.5362 - accuracy: 0.4836 - precision: 0.7643 - recall: 0.2739 - f1: 0.3987 - val_loss: 3.1960 - val_accuracy: 0.1010 - val_precision: 0.0976 - val_recall: 0.0243 - val_f1: 0.0387\n",
      "Epoch 13/1000\n",
      "81/81 [==============================] - 5s 63ms/step - loss: 1.3591 - accuracy: 0.5427 - precision: 0.7738 - recall: 0.3399 - f1: 0.4683 - val_loss: 3.3887 - val_accuracy: 0.0941 - val_precision: 0.0323 - val_recall: 0.0104 - val_f1: 0.0157\n",
      "Epoch 14/1000\n",
      "81/81 [==============================] - 5s 64ms/step - loss: 1.2324 - accuracy: 0.5875 - precision: 0.7908 - recall: 0.4090 - f1: 0.5334 - val_loss: 3.4872 - val_accuracy: 0.1045 - val_precision: 0.0867 - val_recall: 0.0279 - val_f1: 0.0417\n",
      "Epoch 15/1000\n",
      "81/81 [==============================] - 5s 63ms/step - loss: 1.0430 - accuracy: 0.6570 - precision: 0.8147 - recall: 0.5036 - f1: 0.6205 - val_loss: 3.9020 - val_accuracy: 0.0662 - val_precision: 0.0542 - val_recall: 0.0211 - val_f1: 0.0302\n",
      "Epoch 16/1000\n",
      "81/81 [==============================] - 5s 63ms/step - loss: 0.9387 - accuracy: 0.6941 - precision: 0.8259 - recall: 0.5522 - f1: 0.6598 - val_loss: 4.1503 - val_accuracy: 0.0592 - val_precision: 0.0439 - val_recall: 0.0211 - val_f1: 0.0281\n",
      "Epoch 17/1000\n",
      "81/81 [==============================] - 5s 64ms/step - loss: 0.8042 - accuracy: 0.7350 - precision: 0.8429 - recall: 0.6145 - f1: 0.7088 - val_loss: 4.3054 - val_accuracy: 0.0767 - val_precision: 0.0634 - val_recall: 0.0351 - val_f1: 0.0449\n",
      "Epoch 18/1000\n",
      "81/81 [==============================] - 5s 63ms/step - loss: 0.7428 - accuracy: 0.7513 - precision: 0.8455 - recall: 0.6516 - f1: 0.7346 - val_loss: 4.9715 - val_accuracy: 0.0976 - val_precision: 0.0942 - val_recall: 0.0559 - val_f1: 0.0701\n",
      "Epoch 19/1000\n",
      "81/81 [==============================] - 5s 63ms/step - loss: 0.6006 - accuracy: 0.7988 - precision: 0.8724 - recall: 0.7166 - f1: 0.7856 - val_loss: 4.8486 - val_accuracy: 0.0732 - val_precision: 0.0641 - val_recall: 0.0383 - val_f1: 0.0477\n",
      "Epoch 20/1000\n",
      "81/81 [==============================] - 5s 63ms/step - loss: 0.4894 - accuracy: 0.8436 - precision: 0.8995 - recall: 0.7819 - f1: 0.8357 - val_loss: 5.1812 - val_accuracy: 0.0871 - val_precision: 0.0716 - val_recall: 0.0488 - val_f1: 0.0580\n",
      "Epoch 21/1000\n",
      "81/81 [==============================] - 5s 63ms/step - loss: 0.4215 - accuracy: 0.8579 - precision: 0.8977 - recall: 0.8095 - f1: 0.8508 - val_loss: 5.4669 - val_accuracy: 0.0767 - val_precision: 0.0794 - val_recall: 0.0557 - val_f1: 0.0653\n",
      "Epoch 22/1000\n",
      "81/81 [==============================] - 5s 63ms/step - loss: 0.3450 - accuracy: 0.8899 - precision: 0.9195 - recall: 0.8506 - f1: 0.8831 - val_loss: 5.8591 - val_accuracy: 0.0767 - val_precision: 0.0788 - val_recall: 0.0627 - val_f1: 0.0697\n",
      "Epoch 23/1000\n",
      "81/81 [==============================] - 5s 63ms/step - loss: 0.2791 - accuracy: 0.9123 - precision: 0.9333 - recall: 0.8833 - f1: 0.9071 - val_loss: 5.9575 - val_accuracy: 0.0906 - val_precision: 0.0908 - val_recall: 0.0697 - val_f1: 0.0787\n",
      "Epoch 24/1000\n",
      "81/81 [==============================] - 5s 63ms/step - loss: 0.2530 - accuracy: 0.9220 - precision: 0.9407 - recall: 0.8952 - f1: 0.9171 - val_loss: 6.3254 - val_accuracy: 0.0871 - val_precision: 0.0887 - val_recall: 0.0662 - val_f1: 0.0758\n",
      "Epoch 25/1000\n",
      "81/81 [==============================] - 5s 63ms/step - loss: 0.2342 - accuracy: 0.9262 - precision: 0.9430 - recall: 0.9034 - f1: 0.9225 - val_loss: 6.4115 - val_accuracy: 0.0941 - val_precision: 0.1034 - val_recall: 0.0837 - val_f1: 0.0922\n",
      "Epoch 26/1000\n",
      "81/81 [==============================] - 5s 63ms/step - loss: 0.2321 - accuracy: 0.9347 - precision: 0.9502 - recall: 0.9165 - f1: 0.9328 - val_loss: 6.8170 - val_accuracy: 0.0871 - val_precision: 0.0924 - val_recall: 0.0767 - val_f1: 0.0837\n",
      "Epoch 27/1000\n",
      "81/81 [==============================] - 5s 63ms/step - loss: 0.1781 - accuracy: 0.9432 - precision: 0.9565 - recall: 0.9285 - f1: 0.9421 - val_loss: 6.7241 - val_accuracy: 0.1010 - val_precision: 0.1111 - val_recall: 0.0906 - val_f1: 0.0994\n",
      "Epoch 28/1000\n",
      "81/81 [==============================] - 5s 64ms/step - loss: 0.1650 - accuracy: 0.9475 - precision: 0.9572 - recall: 0.9339 - f1: 0.9453 - val_loss: 6.9853 - val_accuracy: 0.1010 - val_precision: 0.0938 - val_recall: 0.0768 - val_f1: 0.0844\n",
      "Epoch 29/1000\n",
      "81/81 [==============================] - 5s 65ms/step - loss: 0.1917 - accuracy: 0.9432 - precision: 0.9531 - recall: 0.9289 - f1: 0.9406 - val_loss: 6.2650 - val_accuracy: 0.1045 - val_precision: 0.1178 - val_recall: 0.0874 - val_f1: 0.1001\n",
      "Epoch 30/1000\n",
      "81/81 [==============================] - 5s 63ms/step - loss: 0.1499 - accuracy: 0.9529 - precision: 0.9615 - recall: 0.9385 - f1: 0.9497 - val_loss: 6.7841 - val_accuracy: 0.0767 - val_precision: 0.0883 - val_recall: 0.0699 - val_f1: 0.0779\n",
      "Epoch 31/1000\n",
      "81/81 [==============================] - 5s 64ms/step - loss: 0.1705 - accuracy: 0.9509 - precision: 0.9582 - recall: 0.9406 - f1: 0.9492 - val_loss: 6.8960 - val_accuracy: 0.0767 - val_precision: 0.0711 - val_recall: 0.0558 - val_f1: 0.0624\n",
      "Epoch 32/1000\n",
      "81/81 [==============================] - 5s 64ms/step - loss: 0.1207 - accuracy: 0.9641 - precision: 0.9700 - recall: 0.9571 - f1: 0.9634 - val_loss: 6.9060 - val_accuracy: 0.0976 - val_precision: 0.0971 - val_recall: 0.0837 - val_f1: 0.0898\n",
      "Epoch 33/1000\n",
      "81/81 [==============================] - 5s 64ms/step - loss: 0.1283 - accuracy: 0.9641 - precision: 0.9687 - recall: 0.9575 - f1: 0.9630 - val_loss: 7.2025 - val_accuracy: 0.0871 - val_precision: 0.0909 - val_recall: 0.0767 - val_f1: 0.0831\n",
      "Epoch 34/1000\n",
      "81/81 [==============================] - 5s 64ms/step - loss: 0.1109 - accuracy: 0.9672 - precision: 0.9723 - recall: 0.9629 - f1: 0.9675 - val_loss: 7.0539 - val_accuracy: 0.0836 - val_precision: 0.0901 - val_recall: 0.0768 - val_f1: 0.0828\n",
      "Epoch 35/1000\n",
      "81/81 [==============================] - 5s 64ms/step - loss: 0.0897 - accuracy: 0.9772 - precision: 0.9804 - recall: 0.9703 - f1: 0.9752 - val_loss: 7.4332 - val_accuracy: 0.0801 - val_precision: 0.0822 - val_recall: 0.0699 - val_f1: 0.0754\n",
      "Epoch 36/1000\n",
      "81/81 [==============================] - 5s 64ms/step - loss: 0.0551 - accuracy: 0.9845 - precision: 0.9872 - recall: 0.9818 - f1: 0.9844 - val_loss: 7.9677 - val_accuracy: 0.0836 - val_precision: 0.0828 - val_recall: 0.0697 - val_f1: 0.0756\n",
      "Epoch 37/1000\n",
      "81/81 [==============================] - 5s 64ms/step - loss: 0.0580 - accuracy: 0.9803 - precision: 0.9831 - recall: 0.9778 - f1: 0.9804 - val_loss: 8.1735 - val_accuracy: 0.0906 - val_precision: 0.0856 - val_recall: 0.0733 - val_f1: 0.0789\n",
      "Epoch 38/1000\n",
      "81/81 [==============================] - 5s 64ms/step - loss: 0.0750 - accuracy: 0.9776 - precision: 0.9798 - recall: 0.9733 - f1: 0.9765 - val_loss: 8.3599 - val_accuracy: 0.0941 - val_precision: 0.0939 - val_recall: 0.0840 - val_f1: 0.0886\n",
      "Epoch 39/1000\n",
      "81/81 [==============================] - 5s 64ms/step - loss: 0.0866 - accuracy: 0.9745 - precision: 0.9786 - recall: 0.9703 - f1: 0.9743 - val_loss: 8.1837 - val_accuracy: 0.0836 - val_precision: 0.0765 - val_recall: 0.0665 - val_f1: 0.0711\n",
      "Epoch 40/1000\n",
      "81/81 [==============================] - 5s 64ms/step - loss: 0.1153 - accuracy: 0.9660 - precision: 0.9703 - recall: 0.9603 - f1: 0.9652 - val_loss: 7.9716 - val_accuracy: 0.0871 - val_precision: 0.0792 - val_recall: 0.0663 - val_f1: 0.0721\n",
      "Epoch 41/1000\n",
      "43/81 [==============>...............] - ETA: 2s - loss: 0.0746 - accuracy: 0.9782 - precision: 0.9803 - recall: 0.9738 - f1: 0.9770"
     ]
    },
    {
     "ename": "KeyboardInterrupt",
     "evalue": "ignored",
     "output_type": "error",
     "traceback": [
      "\u001b[0;31m---------------------------------------------------------------------------\u001b[0m",
      "\u001b[0;31mKeyboardInterrupt\u001b[0m                         Traceback (most recent call last)",
      "\u001b[0;32m<ipython-input-60-2d45d42e9fab>\u001b[0m in \u001b[0;36m<module>\u001b[0;34m()\u001b[0m\n\u001b[0;32m----> 1\u001b[0;31m \u001b[0mhistory\u001b[0m \u001b[0;34m=\u001b[0m \u001b[0mmodel\u001b[0m\u001b[0;34m.\u001b[0m\u001b[0mfit\u001b[0m\u001b[0;34m(\u001b[0m\u001b[0mX\u001b[0m\u001b[0;34m,\u001b[0m \u001b[0my\u001b[0m\u001b[0;34m,\u001b[0m \u001b[0mbatch_size\u001b[0m\u001b[0;34m=\u001b[0m\u001b[0;36m32\u001b[0m\u001b[0;34m,\u001b[0m \u001b[0mepochs\u001b[0m\u001b[0;34m=\u001b[0m\u001b[0;36m1000\u001b[0m\u001b[0;34m,\u001b[0m \u001b[0mvalidation_data\u001b[0m\u001b[0;34m=\u001b[0m\u001b[0;34m(\u001b[0m\u001b[0mX_val\u001b[0m\u001b[0;34m,\u001b[0m \u001b[0my_val\u001b[0m\u001b[0;34m)\u001b[0m\u001b[0;34m)\u001b[0m\u001b[0;34m\u001b[0m\u001b[0;34m\u001b[0m\u001b[0m\n\u001b[0m",
      "\u001b[0;32m/usr/local/lib/python3.6/dist-packages/tensorflow/python/keras/engine/training.py\u001b[0m in \u001b[0;36mfit\u001b[0;34m(self, x, y, batch_size, epochs, verbose, callbacks, validation_split, validation_data, shuffle, class_weight, sample_weight, initial_epoch, steps_per_epoch, validation_steps, validation_batch_size, validation_freq, max_queue_size, workers, use_multiprocessing)\u001b[0m\n\u001b[1;32m   1098\u001b[0m                 _r=1):\n\u001b[1;32m   1099\u001b[0m               \u001b[0mcallbacks\u001b[0m\u001b[0;34m.\u001b[0m\u001b[0mon_train_batch_begin\u001b[0m\u001b[0;34m(\u001b[0m\u001b[0mstep\u001b[0m\u001b[0;34m)\u001b[0m\u001b[0;34m\u001b[0m\u001b[0;34m\u001b[0m\u001b[0m\n\u001b[0;32m-> 1100\u001b[0;31m               \u001b[0mtmp_logs\u001b[0m \u001b[0;34m=\u001b[0m \u001b[0mself\u001b[0m\u001b[0;34m.\u001b[0m\u001b[0mtrain_function\u001b[0m\u001b[0;34m(\u001b[0m\u001b[0miterator\u001b[0m\u001b[0;34m)\u001b[0m\u001b[0;34m\u001b[0m\u001b[0;34m\u001b[0m\u001b[0m\n\u001b[0m\u001b[1;32m   1101\u001b[0m               \u001b[0;32mif\u001b[0m \u001b[0mdata_handler\u001b[0m\u001b[0;34m.\u001b[0m\u001b[0mshould_sync\u001b[0m\u001b[0;34m:\u001b[0m\u001b[0;34m\u001b[0m\u001b[0;34m\u001b[0m\u001b[0m\n\u001b[1;32m   1102\u001b[0m                 \u001b[0mcontext\u001b[0m\u001b[0;34m.\u001b[0m\u001b[0masync_wait\u001b[0m\u001b[0;34m(\u001b[0m\u001b[0;34m)\u001b[0m\u001b[0;34m\u001b[0m\u001b[0;34m\u001b[0m\u001b[0m\n",
      "\u001b[0;32m/usr/local/lib/python3.6/dist-packages/tensorflow/python/eager/def_function.py\u001b[0m in \u001b[0;36m__call__\u001b[0;34m(self, *args, **kwds)\u001b[0m\n\u001b[1;32m    826\u001b[0m     \u001b[0mtracing_count\u001b[0m \u001b[0;34m=\u001b[0m \u001b[0mself\u001b[0m\u001b[0;34m.\u001b[0m\u001b[0mexperimental_get_tracing_count\u001b[0m\u001b[0;34m(\u001b[0m\u001b[0;34m)\u001b[0m\u001b[0;34m\u001b[0m\u001b[0;34m\u001b[0m\u001b[0m\n\u001b[1;32m    827\u001b[0m     \u001b[0;32mwith\u001b[0m \u001b[0mtrace\u001b[0m\u001b[0;34m.\u001b[0m\u001b[0mTrace\u001b[0m\u001b[0;34m(\u001b[0m\u001b[0mself\u001b[0m\u001b[0;34m.\u001b[0m\u001b[0m_name\u001b[0m\u001b[0;34m)\u001b[0m \u001b[0;32mas\u001b[0m \u001b[0mtm\u001b[0m\u001b[0;34m:\u001b[0m\u001b[0;34m\u001b[0m\u001b[0;34m\u001b[0m\u001b[0m\n\u001b[0;32m--> 828\u001b[0;31m       \u001b[0mresult\u001b[0m \u001b[0;34m=\u001b[0m \u001b[0mself\u001b[0m\u001b[0;34m.\u001b[0m\u001b[0m_call\u001b[0m\u001b[0;34m(\u001b[0m\u001b[0;34m*\u001b[0m\u001b[0margs\u001b[0m\u001b[0;34m,\u001b[0m \u001b[0;34m**\u001b[0m\u001b[0mkwds\u001b[0m\u001b[0;34m)\u001b[0m\u001b[0;34m\u001b[0m\u001b[0;34m\u001b[0m\u001b[0m\n\u001b[0m\u001b[1;32m    829\u001b[0m       \u001b[0mcompiler\u001b[0m \u001b[0;34m=\u001b[0m \u001b[0;34m\"xla\"\u001b[0m \u001b[0;32mif\u001b[0m \u001b[0mself\u001b[0m\u001b[0;34m.\u001b[0m\u001b[0m_experimental_compile\u001b[0m \u001b[0;32melse\u001b[0m \u001b[0;34m\"nonXla\"\u001b[0m\u001b[0;34m\u001b[0m\u001b[0;34m\u001b[0m\u001b[0m\n\u001b[1;32m    830\u001b[0m       \u001b[0mnew_tracing_count\u001b[0m \u001b[0;34m=\u001b[0m \u001b[0mself\u001b[0m\u001b[0;34m.\u001b[0m\u001b[0mexperimental_get_tracing_count\u001b[0m\u001b[0;34m(\u001b[0m\u001b[0;34m)\u001b[0m\u001b[0;34m\u001b[0m\u001b[0;34m\u001b[0m\u001b[0m\n",
      "\u001b[0;32m/usr/local/lib/python3.6/dist-packages/tensorflow/python/eager/def_function.py\u001b[0m in \u001b[0;36m_call\u001b[0;34m(self, *args, **kwds)\u001b[0m\n\u001b[1;32m    853\u001b[0m       \u001b[0;31m# In this case we have created variables on the first call, so we run the\u001b[0m\u001b[0;34m\u001b[0m\u001b[0;34m\u001b[0m\u001b[0;34m\u001b[0m\u001b[0m\n\u001b[1;32m    854\u001b[0m       \u001b[0;31m# defunned version which is guaranteed to never create variables.\u001b[0m\u001b[0;34m\u001b[0m\u001b[0;34m\u001b[0m\u001b[0;34m\u001b[0m\u001b[0m\n\u001b[0;32m--> 855\u001b[0;31m       \u001b[0;32mreturn\u001b[0m \u001b[0mself\u001b[0m\u001b[0;34m.\u001b[0m\u001b[0m_stateless_fn\u001b[0m\u001b[0;34m(\u001b[0m\u001b[0;34m*\u001b[0m\u001b[0margs\u001b[0m\u001b[0;34m,\u001b[0m \u001b[0;34m**\u001b[0m\u001b[0mkwds\u001b[0m\u001b[0;34m)\u001b[0m  \u001b[0;31m# pylint: disable=not-callable\u001b[0m\u001b[0;34m\u001b[0m\u001b[0;34m\u001b[0m\u001b[0m\n\u001b[0m\u001b[1;32m    856\u001b[0m     \u001b[0;32melif\u001b[0m \u001b[0mself\u001b[0m\u001b[0;34m.\u001b[0m\u001b[0m_stateful_fn\u001b[0m \u001b[0;32mis\u001b[0m \u001b[0;32mnot\u001b[0m \u001b[0;32mNone\u001b[0m\u001b[0;34m:\u001b[0m\u001b[0;34m\u001b[0m\u001b[0;34m\u001b[0m\u001b[0m\n\u001b[1;32m    857\u001b[0m       \u001b[0;31m# Release the lock early so that multiple threads can perform the call\u001b[0m\u001b[0;34m\u001b[0m\u001b[0;34m\u001b[0m\u001b[0;34m\u001b[0m\u001b[0m\n",
      "\u001b[0;32m/usr/local/lib/python3.6/dist-packages/tensorflow/python/eager/function.py\u001b[0m in \u001b[0;36m__call__\u001b[0;34m(self, *args, **kwargs)\u001b[0m\n\u001b[1;32m   2941\u001b[0m        filtered_flat_args) = self._maybe_define_function(args, kwargs)\n\u001b[1;32m   2942\u001b[0m     return graph_function._call_flat(\n\u001b[0;32m-> 2943\u001b[0;31m         filtered_flat_args, captured_inputs=graph_function.captured_inputs)  # pylint: disable=protected-access\n\u001b[0m\u001b[1;32m   2944\u001b[0m \u001b[0;34m\u001b[0m\u001b[0m\n\u001b[1;32m   2945\u001b[0m   \u001b[0;34m@\u001b[0m\u001b[0mproperty\u001b[0m\u001b[0;34m\u001b[0m\u001b[0;34m\u001b[0m\u001b[0m\n",
      "\u001b[0;32m/usr/local/lib/python3.6/dist-packages/tensorflow/python/eager/function.py\u001b[0m in \u001b[0;36m_call_flat\u001b[0;34m(self, args, captured_inputs, cancellation_manager)\u001b[0m\n\u001b[1;32m   1917\u001b[0m       \u001b[0;31m# No tape is watching; skip to running the function.\u001b[0m\u001b[0;34m\u001b[0m\u001b[0;34m\u001b[0m\u001b[0;34m\u001b[0m\u001b[0m\n\u001b[1;32m   1918\u001b[0m       return self._build_call_outputs(self._inference_function.call(\n\u001b[0;32m-> 1919\u001b[0;31m           ctx, args, cancellation_manager=cancellation_manager))\n\u001b[0m\u001b[1;32m   1920\u001b[0m     forward_backward = self._select_forward_and_backward_functions(\n\u001b[1;32m   1921\u001b[0m         \u001b[0margs\u001b[0m\u001b[0;34m,\u001b[0m\u001b[0;34m\u001b[0m\u001b[0;34m\u001b[0m\u001b[0m\n",
      "\u001b[0;32m/usr/local/lib/python3.6/dist-packages/tensorflow/python/eager/function.py\u001b[0m in \u001b[0;36mcall\u001b[0;34m(self, ctx, args, cancellation_manager)\u001b[0m\n\u001b[1;32m    558\u001b[0m               \u001b[0minputs\u001b[0m\u001b[0;34m=\u001b[0m\u001b[0margs\u001b[0m\u001b[0;34m,\u001b[0m\u001b[0;34m\u001b[0m\u001b[0;34m\u001b[0m\u001b[0m\n\u001b[1;32m    559\u001b[0m               \u001b[0mattrs\u001b[0m\u001b[0;34m=\u001b[0m\u001b[0mattrs\u001b[0m\u001b[0;34m,\u001b[0m\u001b[0;34m\u001b[0m\u001b[0;34m\u001b[0m\u001b[0m\n\u001b[0;32m--> 560\u001b[0;31m               ctx=ctx)\n\u001b[0m\u001b[1;32m    561\u001b[0m         \u001b[0;32melse\u001b[0m\u001b[0;34m:\u001b[0m\u001b[0;34m\u001b[0m\u001b[0;34m\u001b[0m\u001b[0m\n\u001b[1;32m    562\u001b[0m           outputs = execute.execute_with_cancellation(\n",
      "\u001b[0;32m/usr/local/lib/python3.6/dist-packages/tensorflow/python/eager/execute.py\u001b[0m in \u001b[0;36mquick_execute\u001b[0;34m(op_name, num_outputs, inputs, attrs, ctx, name)\u001b[0m\n\u001b[1;32m     58\u001b[0m     \u001b[0mctx\u001b[0m\u001b[0;34m.\u001b[0m\u001b[0mensure_initialized\u001b[0m\u001b[0;34m(\u001b[0m\u001b[0;34m)\u001b[0m\u001b[0;34m\u001b[0m\u001b[0;34m\u001b[0m\u001b[0m\n\u001b[1;32m     59\u001b[0m     tensors = pywrap_tfe.TFE_Py_Execute(ctx._handle, device_name, op_name,\n\u001b[0;32m---> 60\u001b[0;31m                                         inputs, attrs, num_outputs)\n\u001b[0m\u001b[1;32m     61\u001b[0m   \u001b[0;32mexcept\u001b[0m \u001b[0mcore\u001b[0m\u001b[0;34m.\u001b[0m\u001b[0m_NotOkStatusException\u001b[0m \u001b[0;32mas\u001b[0m \u001b[0me\u001b[0m\u001b[0;34m:\u001b[0m\u001b[0;34m\u001b[0m\u001b[0;34m\u001b[0m\u001b[0m\n\u001b[1;32m     62\u001b[0m     \u001b[0;32mif\u001b[0m \u001b[0mname\u001b[0m \u001b[0;32mis\u001b[0m \u001b[0;32mnot\u001b[0m \u001b[0;32mNone\u001b[0m\u001b[0;34m:\u001b[0m\u001b[0;34m\u001b[0m\u001b[0;34m\u001b[0m\u001b[0m\n",
      "\u001b[0;31mKeyboardInterrupt\u001b[0m: "
     ]
    }
   ],
   "source": [
    "from keras.callbacks import ModelCheckpoint\n",
    "checkpoint = ModelCheckpoint(os.path.join(os.getcwd, \"lstm-genres-{epoch:02d}-{val_f1:.2f}.hdf5\"), # Сохраняем модель с лучшим val_f1\n",
    "                             monitor='val_f1', save_best_only=True, mode='max', period=1)\n",
    "history = model.fit(X, y, batch_size=32, epochs=10, validation_data=(X_val, y_val), callbacks = [checkpoint])"
   ]
  },
  {
   "cell_type": "code",
   "execution_count": null,
   "metadata": {
    "id": "YXuvjzgeWfSR"
   },
   "outputs": [],
   "source": [
    "y_pred = model.predict_classes(X_test) #To predict labels\n",
    "precision_test = precision(y_test, y_pred)\n",
    "recall_test = recall(y_test, y_pred)\n",
    "f1_test = f1(y_test, y_pred)\n",
    "print(f\"Precision test: {precision_test}\")\n",
    "print(f\"Recall test: {recall_test}\")\n",
    "print(f\"f1 test: {f1_test}\")"
   ]
  },
  {
   "cell_type": "code",
   "execution_count": null,
   "metadata": {
    "id": "R53Mg6ZLz0Jt"
   },
   "outputs": [],
   "source": [
    "import numpy as np\n",
    "import matplotlib.pyplot as plt\n",
    "\n",
    "plt.style.use('ggplot')\n",
    "\n",
    "def plot_metrix(ax, x1, x2, title):\n",
    "    ax.plot(range(1, len(x1) + 1), x1, label='train')\n",
    "    ax.plot(range(1, len(x2) + 1), x2, label='val')\n",
    "    ax.set_ylabel(title)\n",
    "    ax.set_xlabel('Epoch')\n",
    "    ax.legend()\n",
    "    ax.margins(0)\n",
    "\n",
    "def plot_history(history):\n",
    "    fig, axes = plt.subplots(ncols=2, nrows=2, figsize=(16, 9))\n",
    "    ax1, ax2, ax3, ax4 = axes.ravel()\n",
    "\n",
    "    plot_metrix(ax1, history.history['precision'], history.history['val_precision'], 'Precision')\n",
    "    plot_metrix(ax2, history.history['recall'], history.history['val_recall'], 'Recall')\n",
    "    plot_metrix(ax3, history.history['f1'], history.history['val_f1'], \"$F_1$\")\n",
    "    plot_metrix(ax4, history.history['loss'], history.history['val_loss'], 'Loss')\n",
    "    plot_metrix(ax4, history.history['accuracy'], history.history['val_accuracy'], 'Accuracy')\n",
    "\n",
    "    plt.show()\n",
    "\n",
    "plot_history(history)"
   ]
  },
  {
   "cell_type": "code",
   "execution_count": null,
   "metadata": {
    "id": "N9A2hCSZ0ETA"
   },
   "outputs": [],
   "source": [
    "model.load_weights(os.path.join(os.getcwd, \"lstm-genres-1-1.hdf5\"))"
   ]
  }
 ],
 "metadata": {
  "accelerator": "GPU",
  "colab": {
   "collapsed_sections": [],
   "machine_shape": "hm",
   "name": "333.ipynb_",
   "provenance": [
    {
     "file_id": "1GqZu6zmCy2vMNMZqO78DDuHvwv_9vJcp",
     "timestamp": 1609074740890
    },
    {
     "file_id": "1IzPbxNFQmmSYk9s14L4YjBfUgACn9mW2",
     "timestamp": 1593978024316
    },
    {
     "file_id": "1G7NKeneJNyRtcRxLVbbF9jYtRyuTOa-R",
     "timestamp": 1592749700622
    },
    {
     "file_id": "https://github.com/satyajitghana/TSAI-DeepVision-EVA4.0/blob/master/Utils/Colab_25GBRAM_GPU.ipynb",
     "timestamp": 1592043804148
    }
   ]
  },
  "kernelspec": {
   "display_name": "Python 3",
   "language": "python",
   "name": "python3"
  },
  "language_info": {
   "codemirror_mode": {
    "name": "ipython",
    "version": 3
   },
   "file_extension": ".py",
   "mimetype": "text/x-python",
   "name": "python",
   "nbconvert_exporter": "python",
   "pygments_lexer": "ipython3",
   "version": "3.7.9"
  }
 },
 "nbformat": 4,
 "nbformat_minor": 1
}
